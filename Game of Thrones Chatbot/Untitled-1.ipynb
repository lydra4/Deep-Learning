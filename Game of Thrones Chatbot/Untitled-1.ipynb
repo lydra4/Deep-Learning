{
 "cells": [
  {
   "cell_type": "code",
   "execution_count": 6,
   "id": "77b6a316",
   "metadata": {},
   "outputs": [],
   "source": [
    "import re\n",
    "import zipfile\n",
    "from io import BytesIO\n",
    "import pytesseract\n",
    "from PIL import Image\n",
    "from bs4 import BeautifulSoup\n",
    "from ebooklib import ITEM_DOCUMENT, epub"
   ]
  },
  {
   "cell_type": "code",
   "execution_count": 2,
   "id": "01657046",
   "metadata": {},
   "outputs": [],
   "source": [
    "path = \"./data/datasets/A Clash of Kings.epub\""
   ]
  },
  {
   "cell_type": "code",
   "execution_count": 3,
   "id": "ec8d1e10",
   "metadata": {},
   "outputs": [],
   "source": [
    "# book = epub.read_epub(path)\n",
    "\n",
    "# for item in book.get_items_of_type(ITEM_DOCUMENT):\n",
    "#     soup = BeautifulSoup(item.get_content(), \"html.parser\")\n",
    "#     text = soup.get_text(separator=\" \", strip=True)\n",
    "#     print(text)"
   ]
  },
  {
   "cell_type": "code",
   "execution_count": 9,
   "id": "8c9728cf",
   "metadata": {},
   "outputs": [
    {
     "name": "stdout",
     "output_type": "stream",
     "text": [
      "<re.Match object; span=(15, 40), match='Orientation in degrees: 0'>\n",
      "Orientation in degrees: 0\n",
      "0\n",
      "<re.Match object; span=(15, 40), match='Orientation in degrees: 0'>\n",
      "Orientation in degrees: 0\n",
      "0\n",
      "<re.Match object; span=(15, 40), match='Orientation in degrees: 0'>\n",
      "Orientation in degrees: 0\n",
      "0\n"
     ]
    },
    {
     "ename": "TesseractError",
     "evalue": "(1, 'Estimating resolution as 570 Warning. Invalid resolution 0 dpi. Using 70 instead. Too few characters. Skipping this page Error during processing.')",
     "output_type": "error",
     "traceback": [
      "\u001b[31m---------------------------------------------------------------------------\u001b[39m",
      "\u001b[31mTesseractError\u001b[39m                            Traceback (most recent call last)",
      "\u001b[36mCell\u001b[39m\u001b[36m \u001b[39m\u001b[32mIn[9]\u001b[39m\u001b[32m, line 6\u001b[39m\n\u001b[32m      4\u001b[39m image_data = z.read(file)\n\u001b[32m      5\u001b[39m image = Image.open(BytesIO(image_data)).convert(\u001b[33m\"\u001b[39m\u001b[33mRGB\u001b[39m\u001b[33m\"\u001b[39m)\n\u001b[32m----> \u001b[39m\u001b[32m6\u001b[39m osd = \u001b[43mpytesseract\u001b[49m\u001b[43m.\u001b[49m\u001b[43mimage_to_osd\u001b[49m\u001b[43m(\u001b[49m\u001b[43mimage\u001b[49m\u001b[43m=\u001b[49m\u001b[43mimage\u001b[49m\u001b[43m)\u001b[49m\n\u001b[32m      7\u001b[39m rotation_match = re.search(\u001b[33mf\u001b[39m\u001b[33m\"\u001b[39m\u001b[33mOrientation in degrees: (\u001b[39m\u001b[33m\\\u001b[39m\u001b[33md+)\u001b[39m\u001b[33m\"\u001b[39m, osd)\n\u001b[32m      8\u001b[39m \u001b[38;5;28mprint\u001b[39m(rotation_match)\n",
      "\u001b[36mFile \u001b[39m\u001b[32md:\\miniconda3\\envs\\gotchatbot\\Lib\\site-packages\\pytesseract\\pytesseract.py:621\u001b[39m, in \u001b[36mimage_to_osd\u001b[39m\u001b[34m(image, lang, config, nice, output_type, timeout)\u001b[39m\n\u001b[32m    618\u001b[39m config = \u001b[33mf\u001b[39m\u001b[33m'\u001b[39m\u001b[33m--psm 0 \u001b[39m\u001b[38;5;132;01m{\u001b[39;00mconfig.strip()\u001b[38;5;132;01m}\u001b[39;00m\u001b[33m'\u001b[39m\n\u001b[32m    619\u001b[39m args = [image, \u001b[33m'\u001b[39m\u001b[33mosd\u001b[39m\u001b[33m'\u001b[39m, lang, config, nice, timeout]\n\u001b[32m--> \u001b[39m\u001b[32m621\u001b[39m \u001b[38;5;28;01mreturn\u001b[39;00m \u001b[43m{\u001b[49m\n\u001b[32m    622\u001b[39m \u001b[43m    \u001b[49m\u001b[43mOutput\u001b[49m\u001b[43m.\u001b[49m\u001b[43mBYTES\u001b[49m\u001b[43m:\u001b[49m\u001b[43m \u001b[49m\u001b[38;5;28;43;01mlambda\u001b[39;49;00m\u001b[43m:\u001b[49m\u001b[43m \u001b[49m\u001b[43mrun_and_get_output\u001b[49m\u001b[43m(\u001b[49m\u001b[43m*\u001b[49m\u001b[43m(\u001b[49m\u001b[43margs\u001b[49m\u001b[43m \u001b[49m\u001b[43m+\u001b[49m\u001b[43m \u001b[49m\u001b[43m[\u001b[49m\u001b[38;5;28;43;01mTrue\u001b[39;49;00m\u001b[43m]\u001b[49m\u001b[43m)\u001b[49m\u001b[43m)\u001b[49m\u001b[43m,\u001b[49m\n\u001b[32m    623\u001b[39m \u001b[43m    \u001b[49m\u001b[43mOutput\u001b[49m\u001b[43m.\u001b[49m\u001b[43mDICT\u001b[49m\u001b[43m:\u001b[49m\u001b[43m \u001b[49m\u001b[38;5;28;43;01mlambda\u001b[39;49;00m\u001b[43m:\u001b[49m\u001b[43m \u001b[49m\u001b[43mosd_to_dict\u001b[49m\u001b[43m(\u001b[49m\u001b[43mrun_and_get_output\u001b[49m\u001b[43m(\u001b[49m\u001b[43m*\u001b[49m\u001b[43margs\u001b[49m\u001b[43m)\u001b[49m\u001b[43m)\u001b[49m\u001b[43m,\u001b[49m\n\u001b[32m    624\u001b[39m \u001b[43m    \u001b[49m\u001b[43mOutput\u001b[49m\u001b[43m.\u001b[49m\u001b[43mSTRING\u001b[49m\u001b[43m:\u001b[49m\u001b[43m \u001b[49m\u001b[38;5;28;43;01mlambda\u001b[39;49;00m\u001b[43m:\u001b[49m\u001b[43m \u001b[49m\u001b[43mrun_and_get_output\u001b[49m\u001b[43m(\u001b[49m\u001b[43m*\u001b[49m\u001b[43margs\u001b[49m\u001b[43m)\u001b[49m\u001b[43m,\u001b[49m\n\u001b[32m    625\u001b[39m \u001b[43m\u001b[49m\u001b[43m}\u001b[49m\u001b[43m[\u001b[49m\u001b[43moutput_type\u001b[49m\u001b[43m]\u001b[49m\u001b[43m(\u001b[49m\u001b[43m)\u001b[49m\n",
      "\u001b[36mFile \u001b[39m\u001b[32md:\\miniconda3\\envs\\gotchatbot\\Lib\\site-packages\\pytesseract\\pytesseract.py:624\u001b[39m, in \u001b[36mimage_to_osd.<locals>.<lambda>\u001b[39m\u001b[34m()\u001b[39m\n\u001b[32m    618\u001b[39m config = \u001b[33mf\u001b[39m\u001b[33m'\u001b[39m\u001b[33m--psm 0 \u001b[39m\u001b[38;5;132;01m{\u001b[39;00mconfig.strip()\u001b[38;5;132;01m}\u001b[39;00m\u001b[33m'\u001b[39m\n\u001b[32m    619\u001b[39m args = [image, \u001b[33m'\u001b[39m\u001b[33mosd\u001b[39m\u001b[33m'\u001b[39m, lang, config, nice, timeout]\n\u001b[32m    621\u001b[39m \u001b[38;5;28;01mreturn\u001b[39;00m {\n\u001b[32m    622\u001b[39m     Output.BYTES: \u001b[38;5;28;01mlambda\u001b[39;00m: run_and_get_output(*(args + [\u001b[38;5;28;01mTrue\u001b[39;00m])),\n\u001b[32m    623\u001b[39m     Output.DICT: \u001b[38;5;28;01mlambda\u001b[39;00m: osd_to_dict(run_and_get_output(*args)),\n\u001b[32m--> \u001b[39m\u001b[32m624\u001b[39m     Output.STRING: \u001b[38;5;28;01mlambda\u001b[39;00m: \u001b[43mrun_and_get_output\u001b[49m\u001b[43m(\u001b[49m\u001b[43m*\u001b[49m\u001b[43margs\u001b[49m\u001b[43m)\u001b[49m,\n\u001b[32m    625\u001b[39m }[output_type]()\n",
      "\u001b[36mFile \u001b[39m\u001b[32md:\\miniconda3\\envs\\gotchatbot\\Lib\\site-packages\\pytesseract\\pytesseract.py:352\u001b[39m, in \u001b[36mrun_and_get_output\u001b[39m\u001b[34m(image, extension, lang, config, nice, timeout, return_bytes)\u001b[39m\n\u001b[32m    341\u001b[39m \u001b[38;5;28;01mwith\u001b[39;00m save(image) \u001b[38;5;28;01mas\u001b[39;00m (temp_name, input_filename):\n\u001b[32m    342\u001b[39m     kwargs = {\n\u001b[32m    343\u001b[39m         \u001b[33m'\u001b[39m\u001b[33minput_filename\u001b[39m\u001b[33m'\u001b[39m: input_filename,\n\u001b[32m    344\u001b[39m         \u001b[33m'\u001b[39m\u001b[33moutput_filename_base\u001b[39m\u001b[33m'\u001b[39m: temp_name,\n\u001b[32m   (...)\u001b[39m\u001b[32m    349\u001b[39m         \u001b[33m'\u001b[39m\u001b[33mtimeout\u001b[39m\u001b[33m'\u001b[39m: timeout,\n\u001b[32m    350\u001b[39m     }\n\u001b[32m--> \u001b[39m\u001b[32m352\u001b[39m     \u001b[43mrun_tesseract\u001b[49m\u001b[43m(\u001b[49m\u001b[43m*\u001b[49m\u001b[43m*\u001b[49m\u001b[43mkwargs\u001b[49m\u001b[43m)\u001b[49m\n\u001b[32m    353\u001b[39m     \u001b[38;5;28;01mreturn\u001b[39;00m _read_output(\n\u001b[32m    354\u001b[39m         \u001b[33mf\u001b[39m\u001b[33m\"\u001b[39m\u001b[38;5;132;01m{\u001b[39;00mkwargs[\u001b[33m'\u001b[39m\u001b[33moutput_filename_base\u001b[39m\u001b[33m'\u001b[39m]\u001b[38;5;132;01m}\u001b[39;00m\u001b[38;5;132;01m{\u001b[39;00mextsep\u001b[38;5;132;01m}\u001b[39;00m\u001b[38;5;132;01m{\u001b[39;00mextension\u001b[38;5;132;01m}\u001b[39;00m\u001b[33m\"\u001b[39m,\n\u001b[32m    355\u001b[39m         return_bytes,\n\u001b[32m    356\u001b[39m     )\n",
      "\u001b[36mFile \u001b[39m\u001b[32md:\\miniconda3\\envs\\gotchatbot\\Lib\\site-packages\\pytesseract\\pytesseract.py:284\u001b[39m, in \u001b[36mrun_tesseract\u001b[39m\u001b[34m(input_filename, output_filename_base, extension, lang, config, nice, timeout)\u001b[39m\n\u001b[32m    282\u001b[39m \u001b[38;5;28;01mwith\u001b[39;00m timeout_manager(proc, timeout) \u001b[38;5;28;01mas\u001b[39;00m error_string:\n\u001b[32m    283\u001b[39m     \u001b[38;5;28;01mif\u001b[39;00m proc.returncode:\n\u001b[32m--> \u001b[39m\u001b[32m284\u001b[39m         \u001b[38;5;28;01mraise\u001b[39;00m TesseractError(proc.returncode, get_errors(error_string))\n",
      "\u001b[31mTesseractError\u001b[39m: (1, 'Estimating resolution as 570 Warning. Invalid resolution 0 dpi. Using 70 instead. Too few characters. Skipping this page Error during processing.')"
     ]
    }
   ],
   "source": [
    "with zipfile.ZipFile(path, \"r\") as z:\n",
    "    for file in z.namelist():\n",
    "        if file.lower().endswith((\".jpg\", \".jpeg\", \".png\", \".gif\")):\n",
    "            image_data = z.read(file)\n",
    "            image = Image.open(BytesIO(image_data)).convert(\"RGB\")\n",
    "            osd = pytesseract.image_to_osd(image=image)\n",
    "            rotation_match = re.search(f\"Orientation in degrees: (\\d+)\", osd)\n",
    "            print(rotation_match)\n",
    "            print(rotation_match.group(0))\n",
    "            print(rotation_match.group(1))"
   ]
  },
  {
   "cell_type": "code",
   "execution_count": null,
   "id": "53b7efbd",
   "metadata": {},
   "outputs": [],
   "source": []
  },
  {
   "cell_type": "code",
   "execution_count": null,
   "id": "b6a8efb3",
   "metadata": {},
   "outputs": [],
   "source": []
  },
  {
   "cell_type": "code",
   "execution_count": null,
   "id": "46babf9c",
   "metadata": {},
   "outputs": [],
   "source": []
  },
  {
   "cell_type": "code",
   "execution_count": null,
   "id": "2f4ff874",
   "metadata": {},
   "outputs": [],
   "source": []
  },
  {
   "cell_type": "code",
   "execution_count": null,
   "id": "4ff16558",
   "metadata": {},
   "outputs": [],
   "source": []
  },
  {
   "cell_type": "code",
   "execution_count": null,
   "id": "17b297a2",
   "metadata": {},
   "outputs": [],
   "source": []
  },
  {
   "cell_type": "code",
   "execution_count": null,
   "id": "50fc24e6",
   "metadata": {},
   "outputs": [],
   "source": []
  }
 ],
 "metadata": {
  "kernelspec": {
   "display_name": "gotchatbot",
   "language": "python",
   "name": "python3"
  },
  "language_info": {
   "codemirror_mode": {
    "name": "ipython",
    "version": 3
   },
   "file_extension": ".py",
   "mimetype": "text/x-python",
   "name": "python",
   "nbconvert_exporter": "python",
   "pygments_lexer": "ipython3",
   "version": "3.11.11"
  }
 },
 "nbformat": 4,
 "nbformat_minor": 5
}
