{
 "cells": [
  {
   "cell_type": "code",
   "execution_count": 1,
   "id": "77b6a316",
   "metadata": {},
   "outputs": [],
   "source": [
    "import re\n",
    "import zipfile\n",
    "from io import BytesIO\n",
    "import pytesseract\n",
    "from PIL import Image\n",
    "from bs4 import BeautifulSoup\n",
    "from ebooklib import ITEM_DOCUMENT, epub"
   ]
  },
  {
   "cell_type": "code",
   "execution_count": 2,
   "id": "01657046",
   "metadata": {},
   "outputs": [],
   "source": [
    "path = \"./data/datasets/A Feast for Crows.epub\""
   ]
  },
  {
   "cell_type": "code",
   "execution_count": 3,
   "id": "ec8d1e10",
   "metadata": {},
   "outputs": [],
   "source": [
    "# book = epub.read_epub(path)\n",
    "\n",
    "# for item in book.get_items_of_type(ITEM_DOCUMENT):\n",
    "#     soup = BeautifulSoup(item.get_content(), \"html.parser\")\n",
    "#     text = soup.get_text(separator=\" \", strip=True)\n",
    "#     print(text)"
   ]
  },
  {
   "cell_type": "code",
   "execution_count": 15,
   "id": "8c9728cf",
   "metadata": {},
   "outputs": [],
   "source": [
    "# with zipfile.ZipFile(path, \"r\") as z:\n",
    "#     for file in z.namelist():\n",
    "#         if file.lower().endswith((\".jpg\", \".jpeg\", \".png\", \".gif\")):\n",
    "#             print(file)\n",
    "#             image_data = z.read(file)\n",
    "#             image = Image.open(BytesIO(image_data)).convert(\"RGB\")\n",
    "#             osd = pytesseract.image_to_osd(image=image, output_type=pytesseract.Output.DICT)\n",
    "#             print(osd)\n",
    "#             print(type(osd[\"orientation\"]))"
   ]
  },
  {
   "cell_type": "code",
   "execution_count": null,
   "id": "53b7efbd",
   "metadata": {},
   "outputs": [],
   "source": []
  },
  {
   "cell_type": "code",
   "execution_count": null,
   "id": "b6a8efb3",
   "metadata": {},
   "outputs": [],
   "source": []
  },
  {
   "cell_type": "code",
   "execution_count": null,
   "id": "46babf9c",
   "metadata": {},
   "outputs": [],
   "source": []
  },
  {
   "cell_type": "code",
   "execution_count": null,
   "id": "2f4ff874",
   "metadata": {},
   "outputs": [],
   "source": []
  },
  {
   "cell_type": "code",
   "execution_count": null,
   "id": "4ff16558",
   "metadata": {},
   "outputs": [],
   "source": []
  },
  {
   "cell_type": "code",
   "execution_count": null,
   "id": "17b297a2",
   "metadata": {},
   "outputs": [],
   "source": []
  },
  {
   "cell_type": "code",
   "execution_count": null,
   "id": "50fc24e6",
   "metadata": {},
   "outputs": [],
   "source": []
  }
 ],
 "metadata": {
  "kernelspec": {
   "display_name": "gotchatbot",
   "language": "python",
   "name": "python3"
  },
  "language_info": {
   "codemirror_mode": {
    "name": "ipython",
    "version": 3
   },
   "file_extension": ".py",
   "mimetype": "text/x-python",
   "name": "python",
   "nbconvert_exporter": "python",
   "pygments_lexer": "ipython3",
   "version": "3.11.11"
  }
 },
 "nbformat": 4,
 "nbformat_minor": 5
}
